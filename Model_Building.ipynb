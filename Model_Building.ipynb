{
  "nbformat": 4,
  "nbformat_minor": 0,
  "metadata": {
    "colab": {
      "provenance": []
    },
    "kernelspec": {
      "name": "python3",
      "display_name": "Python 3"
    },
    "language_info": {
      "name": "python"
    },
    "accelerator": "GPU",
    "gpuClass": "standard"
  },
  "cells": [
    {
      "cell_type": "markdown",
      "source": [
        "Signed-Unsigned-Detection"
      ],
      "metadata": {
        "id": "slOIk85dGniC"
      }
    },
    {
      "cell_type": "code",
      "execution_count": null,
      "metadata": {
        "id": "0neTBEKtEr1Y"
      },
      "outputs": [],
      "source": [
        "#Importing necessary libraries\n",
        "import tensorflow\n",
        "import numpy as np\n",
        "import os\n",
        "from tensorflow import keras\n",
        "from tensorflow.keras.preprocessing.image import ImageDataGenerator\n",
        "from tensorflow.keras. preprocessing import image\n",
        "from tensorflow.keras.optimizers import RMSprop\n",
        "from tensorflow.keras.models import Sequential\n",
        "from tensorflow.keras import datasets, layers, models\n",
        "from keras.layers import Dense, Conv2D, MaxPool2D , Flatten,Dropout, BatchNormalization"
      ]
    },
    {
      "cell_type": "code",
      "source": [
        "!unzip -q \"/content/drive/MyDrive/Deep Learning model/data.zip\" -d \"/content/drive/MyDrive/Deep Learning model/dataset\" "
      ],
      "metadata": {
        "id": "hmgJS8rLGSbT"
      },
      "execution_count": null,
      "outputs": []
    },
    {
      "cell_type": "code",
      "source": [
        "#Normalizing\n",
        "train=ImageDataGenerator(rescale=1/255)\n",
        "validation=ImageDataGenerator(rescale=1/255)"
      ],
      "metadata": {
        "id": "BAUy5-ODE0DU"
      },
      "execution_count": null,
      "outputs": []
    },
    {
      "cell_type": "code",
      "source": [
        "train_dataset=train.flow_from_directory(\"/content/drive/MyDrive/DL/train\",target_size=(256,256),batch_size=100, class_mode='binary')"
      ],
      "metadata": {
        "colab": {
          "base_uri": "https://localhost:8080/"
        },
        "id": "x2dn03J9E3K_",
        "outputId": "f28c41f2-2bb7-4752-e4eb-53a1826b4dbf"
      },
      "execution_count": null,
      "outputs": [
        {
          "output_type": "stream",
          "name": "stdout",
          "text": [
            "Found 46978 images belonging to 2 classes.\n"
          ]
        }
      ]
    },
    {
      "cell_type": "code",
      "source": [
        "validation_dataset=train.flow_from_directory(\"/content/drive/MyDrive/DL/val\",target_size=(256,256),batch_size=100, class_mode='binary')"
      ],
      "metadata": {
        "colab": {
          "base_uri": "https://localhost:8080/"
        },
        "id": "cM3PBXhOE5Dl",
        "outputId": "7e7c9729-0cd3-45f1-814c-2e5bb7590dde"
      },
      "execution_count": null,
      "outputs": [
        {
          "output_type": "stream",
          "name": "stdout",
          "text": [
            "Found 2000 images belonging to 2 classes.\n"
          ]
        }
      ]
    },
    {
      "cell_type": "code",
      "source": [
        "#EarlyStopping callback\n",
        "'''\n",
        "early_stopping=tensorflow.keras.callbacks.EarlyStopping(monitor=\"val_accuracy\",patience=3)\n",
        "\n",
        "from keras.callbacks import TensorBoard\n",
        "from datetime import datetime\n",
        "\n",
        "def create_tensorboard_callback():\n",
        "  logdir=os.path.join(\"/content/drive/MyDrive/deepvision/logs\", datetime.now().strftime(\"%Y%m%d-%H%M%S\"))\n",
        "  return tensorflow.keras.callbacks.TensorBoard(logdir)\n",
        "  \n",
        "tensorboard=create_tensorboard_callback()'''"
      ],
      "metadata": {
        "id": "BdPYi4AaHuwO"
      },
      "execution_count": null,
      "outputs": []
    },
    {
      "cell_type": "code",
      "source": [
        "#Model building\n",
        "model = Sequential([\n",
        "    layers.Conv2D(filters=128, kernel_size=(3, 3), activation='relu', input_shape=(256,256,3)),\n",
        "    layers.MaxPooling2D((2, 2)),\n",
        "    \n",
        "    layers.Conv2D(filters=64, kernel_size=(3, 3), activation='relu'),\n",
        "    layers.MaxPooling2D((2, 2)),\n",
        "    \n",
        "    layers.Conv2D(filters=64, kernel_size=(3, 3), activation='relu'),\n",
        "    layers.MaxPooling2D((2, 2)),\n",
        "    \n",
        "    layers.Flatten(),\n",
        "    layers.Dense(128, activation='relu'),\n",
        "    layers.Dense(64, activation='relu'),\n",
        "    layers.Dense(1, activation='sigmoid')\n",
        "])"
      ],
      "metadata": {
        "id": "TeI06hukRihE"
      },
      "execution_count": null,
      "outputs": []
    },
    {
      "cell_type": "code",
      "source": [
        "model.compile(optimizer='Adam',\n",
        "              loss='binary_crossentropy',\n",
        "              metrics=['accuracy'])"
      ],
      "metadata": {
        "id": "6_VEV8szRrfZ"
      },
      "execution_count": null,
      "outputs": []
    },
    {
      "cell_type": "code",
      "source": [
        "model.fit(train_dataset,\n",
        "                     steps_per_epoch= 10,\n",
        "                     epochs=10,\n",
        "                     verbose=2,\n",
        "                     validation_data=validation_dataset)"
      ],
      "metadata": {
        "colab": {
          "base_uri": "https://localhost:8080/"
        },
        "id": "psj4xrZuRbhM",
        "outputId": "e57fff9c-8c60-4cd3-e9cf-437d732d774e"
      },
      "execution_count": null,
      "outputs": [
        {
          "output_type": "stream",
          "name": "stdout",
          "text": [
            "Epoch 1/10\n",
            "10/10 - 14s - loss: 0.6452 - accuracy: 0.5980 - val_loss: 0.6427 - val_accuracy: 0.7885 - 14s/epoch - 1s/step\n",
            "Epoch 2/10\n",
            "10/10 - 13s - loss: 0.5529 - accuracy: 0.7780 - val_loss: 0.5431 - val_accuracy: 0.7825 - 13s/epoch - 1s/step\n",
            "Epoch 3/10\n",
            "10/10 - 13s - loss: 0.4220 - accuracy: 0.8280 - val_loss: 0.5016 - val_accuracy: 0.8055 - 13s/epoch - 1s/step\n",
            "Epoch 4/10\n",
            "10/10 - 13s - loss: 0.3759 - accuracy: 0.8500 - val_loss: 0.4766 - val_accuracy: 0.8100 - 13s/epoch - 1s/step\n",
            "Epoch 5/10\n",
            "10/10 - 13s - loss: 0.3583 - accuracy: 0.8660 - val_loss: 0.4730 - val_accuracy: 0.8100 - 13s/epoch - 1s/step\n",
            "Epoch 6/10\n",
            "10/10 - 13s - loss: 0.3365 - accuracy: 0.8810 - val_loss: 0.4675 - val_accuracy: 0.8190 - 13s/epoch - 1s/step\n",
            "Epoch 7/10\n",
            "10/10 - 15s - loss: 0.3762 - accuracy: 0.8540 - val_loss: 0.4519 - val_accuracy: 0.8135 - 15s/epoch - 2s/step\n",
            "Epoch 8/10\n",
            "10/10 - 12s - loss: 0.3020 - accuracy: 0.8770 - val_loss: 0.5346 - val_accuracy: 0.7980 - 12s/epoch - 1s/step\n",
            "Epoch 9/10\n",
            "10/10 - 13s - loss: 0.3148 - accuracy: 0.8850 - val_loss: 0.5377 - val_accuracy: 0.7765 - 13s/epoch - 1s/step\n",
            "Epoch 10/10\n",
            "10/10 - 13s - loss: 0.2646 - accuracy: 0.9060 - val_loss: 0.4904 - val_accuracy: 0.7995 - 13s/epoch - 1s/step\n"
          ]
        },
        {
          "output_type": "execute_result",
          "data": {
            "text/plain": [
              "<keras.callbacks.History at 0x7f5286a61590>"
            ]
          },
          "metadata": {},
          "execution_count": 42
        }
      ]
    },
    {
      "cell_type": "code",
      "source": [
        "model.save('/content/drive/MyDrive/DL/model.h5')"
      ],
      "metadata": {
        "id": "5NrCm_cVUH6c"
      },
      "execution_count": null,
      "outputs": []
    },
    {
      "cell_type": "code",
      "source": [
        "#Test dataset\n",
        "!unzip -q \"/content/drive/MyDrive/DL/inference.zip\" -d \"/content/drive/MyDrive/DL/test_ds\" "
      ],
      "metadata": {
        "id": "8S9IQ3mhsvaV"
      },
      "execution_count": null,
      "outputs": []
    },
    {
      "cell_type": "code",
      "source": [
        "test=ImageDataGenerator(rescale=1/255)"
      ],
      "metadata": {
        "id": "VyS1KtDckKOn"
      },
      "execution_count": null,
      "outputs": []
    },
    {
      "cell_type": "code",
      "source": [
        "test_dataset=test.flow_from_directory(\"/content/drive/MyDrive/DL/test_ds\",target_size=(256,256),batch_size=100, class_mode='binary')"
      ],
      "metadata": {
        "colab": {
          "base_uri": "https://localhost:8080/"
        },
        "id": "ESeUO8QJtSPe",
        "outputId": "4a5cbe07-50ce-4614-be5a-49d3f3d67e8a"
      },
      "execution_count": null,
      "outputs": [
        {
          "output_type": "stream",
          "name": "stdout",
          "text": [
            "Found 6000 images belonging to 2 classes.\n"
          ]
        }
      ]
    },
    {
      "cell_type": "code",
      "source": [
        "#Evaluating test set\n",
        "model.evaluate(test_dataset)"
      ],
      "metadata": {
        "colab": {
          "base_uri": "https://localhost:8080/"
        },
        "id": "LwDOV_ZHtbFE",
        "outputId": "7762ac61-f83c-4422-e796-c5aaf2f96e16"
      },
      "execution_count": null,
      "outputs": [
        {
          "output_type": "stream",
          "name": "stdout",
          "text": [
            "60/60 [==============================] - 20s 330ms/step - loss: 0.1856 - accuracy: 0.9445\n"
          ]
        },
        {
          "output_type": "execute_result",
          "data": {
            "text/plain": [
              "[0.18559682369232178, 0.9445000290870667]"
            ]
          },
          "metadata": {},
          "execution_count": 17
        }
      ]
    },
    {
      "cell_type": "code",
      "source": [
        "model = keras.models.load_model('/content/drive/MyDrive/DL/model/model.h5')"
      ],
      "metadata": {
        "id": "t7d7De1s21O_"
      },
      "execution_count": null,
      "outputs": []
    },
    {
      "cell_type": "code",
      "source": [
        "model.summary()"
      ],
      "metadata": {
        "colab": {
          "base_uri": "https://localhost:8080/"
        },
        "id": "VYTwVyJxDhwO",
        "outputId": "816af1d4-db8f-4806-940b-9e6224a55a7c"
      },
      "execution_count": null,
      "outputs": [
        {
          "output_type": "stream",
          "name": "stdout",
          "text": [
            "Model: \"sequential\"\n",
            "_________________________________________________________________\n",
            " Layer (type)                Output Shape              Param #   \n",
            "=================================================================\n",
            " conv2d (Conv2D)             (None, 254, 254, 128)     3584      \n",
            "                                                                 \n",
            " max_pooling2d (MaxPooling2D  (None, 127, 127, 128)    0         \n",
            " )                                                               \n",
            "                                                                 \n",
            " conv2d_1 (Conv2D)           (None, 125, 125, 64)      73792     \n",
            "                                                                 \n",
            " max_pooling2d_1 (MaxPooling  (None, 62, 62, 64)       0         \n",
            " 2D)                                                             \n",
            "                                                                 \n",
            " conv2d_2 (Conv2D)           (None, 60, 60, 64)        36928     \n",
            "                                                                 \n",
            " max_pooling2d_2 (MaxPooling  (None, 30, 30, 64)       0         \n",
            " 2D)                                                             \n",
            "                                                                 \n",
            " max_pooling2d_3 (MaxPooling  (None, 15, 15, 64)       0         \n",
            " 2D)                                                             \n",
            "                                                                 \n",
            " flatten (Flatten)           (None, 14400)             0         \n",
            "                                                                 \n",
            " dense (Dense)               (None, 128)               1843328   \n",
            "                                                                 \n",
            " dense_1 (Dense)             (None, 64)                8256      \n",
            "                                                                 \n",
            " dense_2 (Dense)             (None, 1)                 65        \n",
            "                                                                 \n",
            "=================================================================\n",
            "Total params: 1,965,953\n",
            "Trainable params: 1,965,953\n",
            "Non-trainable params: 0\n",
            "_________________________________________________________________\n"
          ]
        }
      ]
    }
  ]
}